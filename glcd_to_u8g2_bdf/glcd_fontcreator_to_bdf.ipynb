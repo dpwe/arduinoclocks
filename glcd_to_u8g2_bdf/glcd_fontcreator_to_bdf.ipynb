{
  "nbformat": 4,
  "nbformat_minor": 0,
  "metadata": {
    "colab": {
      "name": "glcd-fontcreator-to-bdf.ipynb",
      "provenance": []
    },
    "kernelspec": {
      "name": "python3",
      "display_name": "Python 3"
    },
    "language_info": {
      "name": "python"
    }
  },
  "cells": [
    {
      "cell_type": "code",
      "execution_count": 1,
      "metadata": {
        "id": "gn-QayMeC8pA"
      },
      "outputs": [],
      "source": [
        "# from https://github.com/dpwe/calfonts/blob/add-bd/glcd-fontcreator-to-bdf.ipynb\n",
        "\n",
        "# glcd-fontcreator-to-bdf.ipynb\n",
        "#\n",
        "# Converts the fontcreator2-format files used by openglcd\n",
        "# into the X11 BDF format that can be ingested by u8g2.\n",
        "#\n",
        "# Dan Ellis dpwe@ 2022-02-20"
      ]
    },
    {
      "cell_type": "code",
      "source": [
        "from PIL import Image"
      ],
      "metadata": {
        "id": "NgId2w1ZDIRG"
      },
      "execution_count": 2,
      "outputs": []
    },
    {
      "cell_type": "code",
      "source": [
        "# read fontcreator format file from openglcd\n",
        "\n",
        "#foundry_name = \"integratedmapping\"\n",
        "#font_name = \"CalBlk36\"\n",
        "#font_weight = \"bold\"\n",
        "#font_ptsize = 36\n",
        "#font_descent = -8\n",
        "\n",
        "#font_name = \"CalLite24\"\n",
        "#font_weight = \"light\"\n",
        "#font_ptsize = 24\n",
        "#font_descent = -6\n",
        "\n",
        "foundry_name = \"Hitachi\"\n",
        "font_name = \"System5x7\"\n",
        "font_weight = \"normal\"\n",
        "font_ptsize = 7\n",
        "font_descent = 0\n",
        "\n",
        "parent_dir = \"\"\n",
        "#parent_dir = \"/Users/dpwe/Downloads/\"\n",
        "\n",
        "font_file = '{:s}{:s}.h'.format(parent_dir, font_name)\n",
        "\n",
        "bytes = []\n",
        "\n",
        "with open(font_file, 'rt') as f:\n",
        "    in_brace = False\n",
        "    in_comment = False\n",
        "    line_has_comment = False\n",
        "    last_comment_byte = 0\n",
        "    for l in f:\n",
        "        if '/*' in l:\n",
        "            in_comment = True\n",
        "        if '*/' in l:\n",
        "            in_comment = False\n",
        "        if in_comment:\n",
        "            continue;\n",
        "        if '{' in l:\n",
        "            in_brace = True\n",
        "            continue\n",
        "        if '}' in l:\n",
        "            in_brace = False\n",
        "            continue\n",
        "        if in_brace:\n",
        "            # Strip trailing comment\n",
        "            if '//' in l:\n",
        "                l, comment = l.split('//')\n",
        "                line_has_comment = True\n",
        "            # Deal with comma-separated fields\n",
        "            for field in l.split(','):\n",
        "                field = field.strip()\n",
        "                if field:\n",
        "                    try:\n",
        "                        val = int(field, base=16)\n",
        "                        bytes.append(val)\n",
        "                    except:\n",
        "                        print(\"could not parse \", field)\n",
        "            if line_has_comment:\n",
        "                line_has_comment = False\n",
        "                print(\"comment [bytes since last= \", len(bytes) - last_comment_byte, \"]: \", comment.strip())\n",
        "                last_comment_byte = len(bytes)"
      ],
      "metadata": {
        "colab": {
          "base_uri": "https://localhost:8080/"
        },
        "id": "P3c1hdVpDLXy",
        "outputId": "93c594a8-273c-4c06-cef2-b7378e69d85c"
      },
      "execution_count": 43,
      "outputs": [
        {
          "output_type": "stream",
          "name": "stdout",
          "text": [
            "comment [bytes since last=  2 ]:  size of zero indicates fixed width font,\n",
            "comment [bytes since last=  1 ]:  width\n",
            "comment [bytes since last=  1 ]:  height\n",
            "comment [bytes since last=  1 ]:  first char\n",
            "comment [bytes since last=  1 ]:  char count\n",
            "comment [bytes since last=  0 ]:  Fixed width; char width table not used !!!!\n",
            "comment [bytes since last=  0 ]:  font data\n",
            "comment [bytes since last=  5 ]:  (space)\n",
            "comment [bytes since last=  5 ]:  !\n",
            "comment [bytes since last=  5 ]:  \"\n",
            "comment [bytes since last=  5 ]:  #\n",
            "comment [bytes since last=  5 ]:  $\n",
            "comment [bytes since last=  5 ]:  %\n",
            "comment [bytes since last=  5 ]:  &\n",
            "comment [bytes since last=  5 ]:  '\n",
            "comment [bytes since last=  5 ]:  (\n",
            "comment [bytes since last=  5 ]:  )\n",
            "comment [bytes since last=  5 ]:  *\n",
            "comment [bytes since last=  5 ]:  +\n",
            "comment [bytes since last=  5 ]:  ,\n",
            "comment [bytes since last=  5 ]:  -\n",
            "comment [bytes since last=  5 ]:  .\n",
            "comment [bytes since last=  5 ]:  /\n",
            "comment [bytes since last=  5 ]:  0\n",
            "comment [bytes since last=  5 ]:  1\n",
            "comment [bytes since last=  5 ]:  2\n",
            "comment [bytes since last=  5 ]:  3\n",
            "comment [bytes since last=  5 ]:  4\n",
            "comment [bytes since last=  5 ]:  5\n",
            "comment [bytes since last=  5 ]:  6\n",
            "comment [bytes since last=  5 ]:  7\n",
            "comment [bytes since last=  5 ]:  8\n",
            "comment [bytes since last=  5 ]:  9\n",
            "comment [bytes since last=  5 ]:  :\n",
            "comment [bytes since last=  5 ]:  ;\n",
            "comment [bytes since last=  5 ]:  <\n",
            "comment [bytes since last=  5 ]:  =\n",
            "comment [bytes since last=  5 ]:  >\n",
            "comment [bytes since last=  5 ]:  ?\n",
            "comment [bytes since last=  5 ]:  @\n",
            "comment [bytes since last=  5 ]:  A\n",
            "comment [bytes since last=  5 ]:  B\n",
            "comment [bytes since last=  5 ]:  C\n",
            "comment [bytes since last=  5 ]:  D\n",
            "comment [bytes since last=  5 ]:  E\n",
            "comment [bytes since last=  5 ]:  F\n",
            "comment [bytes since last=  5 ]:  G\n",
            "comment [bytes since last=  5 ]:  H\n",
            "comment [bytes since last=  5 ]:  I\n",
            "comment [bytes since last=  5 ]:  J\n",
            "comment [bytes since last=  5 ]:  K\n",
            "comment [bytes since last=  5 ]:  L\n",
            "comment [bytes since last=  5 ]:  M\n",
            "comment [bytes since last=  5 ]:  N\n",
            "comment [bytes since last=  5 ]:  O\n",
            "comment [bytes since last=  5 ]:  P\n",
            "comment [bytes since last=  5 ]:  Q\n",
            "comment [bytes since last=  5 ]:  R\n",
            "comment [bytes since last=  5 ]:  S\n",
            "comment [bytes since last=  5 ]:  T\n",
            "comment [bytes since last=  5 ]:  U\n",
            "comment [bytes since last=  5 ]:  V\n",
            "comment [bytes since last=  5 ]:  W\n",
            "comment [bytes since last=  5 ]:  X\n",
            "comment [bytes since last=  5 ]:  Y\n",
            "comment [bytes since last=  5 ]:  Z\n",
            "comment [bytes since last=  5 ]:  [\n",
            "comment [bytes since last=  5 ]:  \"\\\"\n",
            "comment [bytes since last=  5 ]:  ]\n",
            "comment [bytes since last=  5 ]:  ^\n",
            "comment [bytes since last=  5 ]:  _\n",
            "comment [bytes since last=  5 ]:  `\n",
            "comment [bytes since last=  5 ]:  a\n",
            "comment [bytes since last=  5 ]:  b\n",
            "comment [bytes since last=  5 ]:  c\n",
            "comment [bytes since last=  5 ]:  d\n",
            "comment [bytes since last=  5 ]:  e\n",
            "comment [bytes since last=  5 ]:  f\n",
            "comment [bytes since last=  5 ]:  g\n",
            "comment [bytes since last=  5 ]:  h\n",
            "comment [bytes since last=  5 ]:  i\n",
            "comment [bytes since last=  5 ]:  j\n",
            "comment [bytes since last=  5 ]:  k\n",
            "comment [bytes since last=  5 ]:  l\n",
            "comment [bytes since last=  5 ]:  m\n",
            "comment [bytes since last=  5 ]:  n\n",
            "comment [bytes since last=  5 ]:  o\n",
            "comment [bytes since last=  5 ]:  p\n",
            "comment [bytes since last=  5 ]:  q\n",
            "comment [bytes since last=  5 ]:  r\n",
            "comment [bytes since last=  5 ]:  s\n",
            "comment [bytes since last=  5 ]:  t\n",
            "comment [bytes since last=  5 ]:  u\n",
            "comment [bytes since last=  5 ]:  v\n",
            "comment [bytes since last=  5 ]:  w\n",
            "comment [bytes since last=  5 ]:  x\n",
            "comment [bytes since last=  5 ]:  y\n",
            "comment [bytes since last=  5 ]:  z\n",
            "comment [bytes since last=  5 ]:  |\n"
          ]
        }
      ]
    },
    {
      "cell_type": "code",
      "source": [
        "# Interpreting the bytes\n",
        "font_size = 256 * bytes[1] + bytes[0]\n",
        "# Size of zero indicates fixed-width font\n",
        "fixed_width = True if font_size == 0 else False\n",
        "font_width = bytes[2]\n",
        "font_height = bytes[3]\n",
        "font_start_code = bytes[4]\n",
        "font_num_codes = bytes[5]\n",
        "\n",
        "if fixed_width:\n",
        "  font_widths = [font_width] * font_num_codes\n",
        "  font_width_entries = 0\n",
        "else:\n",
        "  font_width_entries = font_num_codes\n",
        "  font_widths = bytes[6 : 6 + font_width_entries]\n",
        "\n",
        "font_data = bytes[6 + font_width_entries:]\n",
        "\n",
        "print(\"font_width=\", font_width, \"font_height=\", font_height)"
      ],
      "metadata": {
        "colab": {
          "base_uri": "https://localhost:8080/"
        },
        "id": "VP3onotHEUFS",
        "outputId": "2352dd8f-ea0f-4f32-b246-f4b155ad4e51"
      },
      "execution_count": 44,
      "outputs": [
        {
          "output_type": "stream",
          "name": "stdout",
          "text": [
            "font_width= 5 font_height= 7\n"
          ]
        }
      ]
    },
    {
      "cell_type": "code",
      "source": [
        "print(font_num_codes, font_widths[:10])\n",
        "print(list(zip(range(32, 52), font_widths[:20])))"
      ],
      "metadata": {
        "colab": {
          "base_uri": "https://localhost:8080/"
        },
        "id": "nQobtVwCEh98",
        "outputId": "a8217b04-b392-4484-9efc-7b2bebe3523c"
      },
      "execution_count": 45,
      "outputs": [
        {
          "output_type": "stream",
          "name": "stdout",
          "text": [
            "97 [5, 5, 5, 5, 5, 5, 5, 5, 5, 5]\n",
            "[(32, 5), (33, 5), (34, 5), (35, 5), (36, 5), (37, 5), (38, 5), (39, 5), (40, 5), (41, 5), (42, 5), (43, 5), (44, 5), (45, 5), (46, 5), (47, 5), (48, 5), (49, 5), (50, 5), (51, 5)]\n"
          ]
        }
      ]
    },
    {
      "cell_type": "code",
      "source": [
        "# Bytes per glyph is 5 * width.  Height is 36, which won't fit in 4 bytes but will fit in 5.  \n",
        "# So encoding is by column, with each column padded to fill bytes.\n",
        "\n",
        "def bytes_to_glyph(bytes, height):\n",
        "    bytes_per_col = (height + 7) // 8\n",
        "    width = len(bytes) // bytes_per_col\n",
        "    if width != (len(bytes) / bytes_per_col):  # Must be an integral number\n",
        "        raise ValueError(\"got {:d} bytes but width is {:d} and bytes per col is {:d}\".format(len(bytes), width, bytes_per_col))\n",
        "    im = Image.new('1', (width, height), 0)\n",
        "    # Actual encoding is in \"stripes\" of width bytes, providing 8 pixel rows at a time\n",
        "    for row in range(bytes_per_col):\n",
        "        for column in range(width):\n",
        "            val = bytes[row * width + column]\n",
        "            for pixel in range(min(8, height - 8 * row)):\n",
        "                if val & (2 ** pixel) > 0:\n",
        "                    im.putpixel((column, row * 8 + pixel), 1)\n",
        "    return im\n",
        "\n",
        "#im = bytes_to_glyph(font_data[40:80], 36)\n",
        "print(sum(font_widths[:2]), sum(font_widths[:3]))\n",
        "bytes_per_col = (font_height + 7) // 8\n",
        "im = bytes_to_glyph(font_data[bytes_per_col * sum(font_widths[:3]) : bytes_per_col * sum(font_widths[:4])], font_height)\n",
        "\n",
        "display(im)  # Displays as white against black."
      ],
      "metadata": {
        "colab": {
          "base_uri": "https://localhost:8080/",
          "height": 51
        },
        "id": "BfXmVePaEkpY",
        "outputId": "4f7c54da-42b1-4ba0-805e-287c17d619f7"
      },
      "execution_count": 46,
      "outputs": [
        {
          "output_type": "stream",
          "name": "stdout",
          "text": [
            "10 15\n"
          ]
        },
        {
          "output_type": "display_data",
          "data": {
            "text/plain": [
              "<PIL.Image.Image image mode=1 size=5x7 at 0x7F85FDB28590>"
            ],
            "image/png": "[encoded data removed]"
          },
          "metadata": {}
        }
      ]
    },
    {
      "cell_type": "code",
      "source": [
        "# Convert all the characters into images\n",
        "glyphs = {}   # Dict of ascii: image\n",
        "\n",
        "bytes_per_col = (font_height + 7) // 8\n",
        "data_pos = 0\n",
        "for index in range(font_num_codes):\n",
        "    code = font_start_code + index\n",
        "    width = font_widths[index]\n",
        "    bytes_this_glyph = bytes_per_col * width\n",
        "    glyphs[code] = bytes_to_glyph(font_data[data_pos : data_pos + bytes_this_glyph], font_height)\n",
        "    data_pos += bytes_this_glyph"
      ],
      "metadata": {
        "id": "PtKRYRJ9EoY4"
      },
      "execution_count": 47,
      "outputs": []
    },
    {
      "cell_type": "code",
      "source": [
        "display(glyphs[50])\n",
        "print(glyphs[50].width)\n",
        "print(font_width)\n",
        "print(int(round(1000 * glyphs[50].width / font_width)))"
      ],
      "metadata": {
        "colab": {
          "base_uri": "https://localhost:8080/",
          "height": 85
        },
        "id": "xhYpMswvErTF",
        "outputId": "52f747ac-e6e5-44b7-ad41-08f66f42f80f"
      },
      "execution_count": 48,
      "outputs": [
        {
          "output_type": "display_data",
          "data": {
            "text/plain": [
              "<PIL.Image.Image image mode=1 size=5x7 at 0x7F85FDB24490>"
            ],
            "image/png": "[encoded data removed]"
          },
          "metadata": {}
        },
        {
          "output_type": "stream",
          "name": "stdout",
          "text": [
            "5\n",
            "5\n",
            "1000\n"
          ]
        }
      ]
    },
    {
      "cell_type": "code",
      "source": [
        "# And now, BDF export...\n",
        "\n",
        "def bdf_encode_glyph(im, code, fontwidth, font_descent):\n",
        "    result = []\n",
        "    result.append('STARTCHAR U+{:04x}'.format(code))\n",
        "    result.append('ENCODING {:d}'.format(code))\n",
        "    result.append('SWIDTH {:d} 0'.format(int(round(1000 * im.width / fontwidth))))\n",
        "    result.append('DWIDTH {:d} 0'.format(im.width + 1))   # openglcd glyphs <127 have implicit final blank column\n",
        "    result.append('BBX {:d} {:d} 0 {:d}'.format(im.width, im.height, font_descent))\n",
        "    result.append('BITMAP')\n",
        "    bytes = (im.width + 7) // 8\n",
        "    formatstr = '{{:0{:d}x}}'.format(2 * bytes)\n",
        "    for row in range(im.height):\n",
        "        val = 0\n",
        "        for col in range(im.width):\n",
        "            if im.getpixel((col, row)):\n",
        "                val += (2 ** (8 * bytes - 1 - col))\n",
        "        result.append(formatstr.format(val))\n",
        "    result.append('ENDCHAR')\n",
        "    return '\\n'.join(result)\n",
        "\n",
        "print(bdf_encode_glyph(glyphs[50], 50, font_width, font_descent))"
      ],
      "metadata": {
        "colab": {
          "base_uri": "https://localhost:8080/"
        },
        "id": "NfAEjnYdEtYh",
        "outputId": "87feaf38-212e-4c37-d634-50771b190c07"
      },
      "execution_count": 49,
      "outputs": [
        {
          "output_type": "stream",
          "name": "stdout",
          "text": [
            "STARTCHAR U+0032\n",
            "ENCODING 50\n",
            "SWIDTH 1000 0\n",
            "DWIDTH 6 0\n",
            "BBX 5 7 0 0\n",
            "BITMAP\n",
            "70\n",
            "88\n",
            "08\n",
            "10\n",
            "20\n",
            "40\n",
            "f8\n",
            "ENDCHAR\n"
          ]
        }
      ]
    },
    {
      "cell_type": "code",
      "source": [
        "# And the whole font\n",
        "\n",
        "bdf_file = '{:s}{:s}.bdf'.format(parent_dir, font_name)\n",
        "\n",
        "def write_bdf_file(filename, font_start_code, font_width, font_height, font_descent, glyphs):\n",
        "    num_glyphs = len(glyphs)\n",
        "    pointsize = glyphs[font_start_code].height\n",
        "    with open(bdf_file, 'w') as f:\n",
        "        f.write('STARTFONT 2.1\\n')\n",
        "        f.write('FONT -{:s}-{:s}-{:s}-r-normal--{:d}-{:d}-75-75-c-80-iso10646-1\\n'.format(foundry_name, font_name, font_weight, font_ptsize, font_ptsize * 10))\n",
        "        f.write('SIZE {:d} 75 75\\n'.format(pointsize))\n",
        "        f.write('FONTBOUNDINGBOX {:d} {:d} 0 {:d}\\n'.format(font_height, font_width, font_descent))\n",
        "        f.write('CHARS {:d}\\n'.format(num_glyphs))\n",
        "        for index in range(num_glyphs):\n",
        "            code = font_start_code + index\n",
        "            f.write(bdf_encode_glyph(glyphs[code], code, font_width, font_descent))\n",
        "            f.write('\\n')\n",
        "        f.write('ENDFONT\\n')\n",
        "\n",
        "write_bdf_file(bdf_file, font_start_code, font_width, font_height, font_descent, glyphs)\n",
        "print(\"Wrote\", bdf_file)"
      ],
      "metadata": {
        "colab": {
          "base_uri": "https://localhost:8080/"
        },
        "id": "UvLlPz3VExhs",
        "outputId": "37882166-2507-49aa-f3d2-33d091ff2e44"
      },
      "execution_count": 50,
      "outputs": [
        {
          "output_type": "stream",
          "name": "stdout",
          "text": [
            "Wrote System5x7.bdf\n"
          ]
        }
      ]
    },
    {
      "cell_type": "code",
      "source": [
        "# Then, to incorporate into U8g2:\n",
        "#   $ cd github/u8g2/tools/bdfconv/\n",
        "#   $ ./bdfconv -f 1 -m '32-127' -n System5x7 -o ~/Downloads/System5x7.c ~/Downloads/System5x7.bdf\n",
        "# Then insert the content of the *.c output file into\n",
        "#   ~/Documents/Arduino/libraries/U8g2/src/clib/u8g2_fonts.c\n",
        "# and its signature into\n",
        "#   ~/Documents/Arduino/libraries/U8g2/src/clib/u8g2.h\n",
        "# then your new font should be available."
      ],
      "metadata": {
        "id": "1LQKz-RtFJXQ"
      },
      "execution_count": null,
      "outputs": []
    }
  ]
}