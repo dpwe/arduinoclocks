{
 "cells": [
  {
   "cell_type": "code",
   "execution_count": 83,
   "id": "7f45ce27-1a6d-481b-b8fc-591dd4993b05",
   "metadata": {},
   "outputs": [
    {
     "name": "stdout",
     "output_type": "stream",
     "text": [
      "2 844 95\n"
     ]
    }
   ],
   "source": [
    "path = '/Users/dpwe/Documents/Arduino/libraries/Adafruit_GFX_Library/Fonts/FreeMono9pt7b.h'\n",
    "#path = '/Users/dpwe/Documents/Arduino/libraries/Adafruit_GFX_Library/Fonts/CalBlk36.h'\n",
    "\n",
    "def parse_gfx_font_file(path):\n",
    "    bracelevel = 0\n",
    "    vals = [[], []]\n",
    "    valpart = 0\n",
    "    with open(path, 'rt') as f:\n",
    "        for l in f:\n",
    "            while l:\n",
    "                l = l.strip()\n",
    "                if not l or l[0] == '/':\n",
    "                    break\n",
    "                if '//' in l or '/*' in l:\n",
    "                    # Strip trailing comment.  Does not handle multi-line /*..*/.\n",
    "                    comment = '//' if '//' in l else '/*'\n",
    "                    pos = l.index(comment)\n",
    "                    l = l[:pos].strip()\n",
    "                    continue\n",
    "                if l[0] in '{},':\n",
    "                    # Update brace level or ignore comma after brace block.\n",
    "                    bracelevel += [1, -1, 0]['{},'.index(l[0])]\n",
    "                    l = l[1:]\n",
    "                    continue\n",
    "                if '{' in l or '}' in l:\n",
    "                    # Parse up until next brace.\n",
    "                    brace = '{' if '{' in l else '}'\n",
    "                    pos = l.index(brace)\n",
    "                    payload = l[:pos].strip()\n",
    "                    l = l[pos:]\n",
    "                else:\n",
    "                    payload = l.strip()\n",
    "                    l = ''\n",
    "                if bracelevel and payload and payload[0] != '/':\n",
    "                    radix = 16 if '0x' in payload else 10\n",
    "                    payload_vals = [int(v, radix) for v in payload.split(',') if v]\n",
    "                    if bracelevel == 1:\n",
    "                        vals[valpart].extend(payload_vals)\n",
    "                    else:\n",
    "                        vals[valpart].append(payload_vals)\n",
    "            if len(vals[valpart]) and bracelevel == 0:\n",
    "                valpart += 1\n",
    "                if valpart == 2:\n",
    "                    break\n",
    "    return vals\n",
    "\n",
    "vals = parse_gfx_font_file(path)\n",
    "\n",
    "print(len(vals), len(vals[0]), len(vals[1]))"
   ]
  },
  {
   "cell_type": "code",
   "execution_count": 84,
   "id": "2e95dd07-0f10-4913-8bd9-223152d386df",
   "metadata": {},
   "outputs": [
    {
     "name": "stdout",
     "output_type": "stream",
     "text": [
      "[836, 3, 13, 11, 4, -10]\n",
      "[841, 7, 3, 11, 2, -6]\n"
     ]
    }
   ],
   "source": [
    "print(vals[1][-2])\n",
    "print(vals[1][-1])\n",
    "# {offset, width, height, advance cursor, x offset, y offset}\n"
   ]
  },
  {
   "cell_type": "code",
   "execution_count": 130,
   "id": "fba6a666-b222-4ca3-9297-9e0ce3971a44",
   "metadata": {},
   "outputs": [
    {
     "name": "stdout",
     "output_type": "stream",
     "text": [
      "[107, 7, 11, 11, 2, -10]\n",
      "  ***  \n",
      " *   * \n",
      "*     *\n",
      "      *\n",
      "      *\n",
      "     * \n",
      "    *  \n",
      "   *   \n",
      " **    \n",
      "*      \n",
      "*******\n",
      "[56, 138, 8, 16, 32, 130, 8, 97, 3, 248]\n",
      "[28, 34, 65, 1, 1, 2, 4, 8, 48, 64, 127]\n"
     ]
    }
   ],
   "source": [
    "c = 0x32 - 32\n",
    "bytes = vals[0][vals[1][c][0] : vals[1][c+1][0]]\n",
    "width = vals[1][c][1]\n",
    "height = vals[1][c][2]\n",
    "print(vals[1][c])\n",
    "\n",
    "def unpack_bits(bytes, width, height):\n",
    "    \"\"\"Return bytes in width-bit chunks.\"\"\"\n",
    "    pos = 0\n",
    "    bits_left = 8\n",
    "    this_byte = bytes[pos]\n",
    "    result = [0 for _ in range(height)]\n",
    "    for h in range(height):\n",
    "        for b in range(width):\n",
    "            result[h] = 2 * result[h] + (this_byte > 127)\n",
    "            bits_left -= 1\n",
    "            if bits_left:\n",
    "                this_byte = (2 * this_byte) & 0xFF\n",
    "            else:\n",
    "                pos += 1\n",
    "                if pos < len(bytes):\n",
    "                    this_byte = bytes[pos]\n",
    "                bits_left = 8\n",
    "    return result\n",
    "\n",
    "def show_bitmap(bytes, bitwidth=8):\n",
    "    for b in bytes:\n",
    "        print(''.join([[' ', '*']['01'.index(c)] for c in '{{:0{:d}b}}'.format(bitwidth).format(b)]))\n",
    "\n",
    "fvals = unpack_bits(bytes, width, height)\n",
    "show_bitmap(fvals, width)\n",
    "print(bytes)\n",
    "print(fvals)"
   ]
  },
  {
   "cell_type": "code",
   "execution_count": 131,
   "id": "e1c7c9ec-d31b-4f11-912a-5f15451d3f37",
   "metadata": {},
   "outputs": [
    {
     "name": "stdout",
     "output_type": "stream",
     "text": [
      "82\n"
     ]
    }
   ],
   "source": [
    "print(1234 & 0x7f)"
   ]
  },
  {
   "cell_type": "code",
   "execution_count": 137,
   "id": "038c35ba-6544-43ab-9a12-49abbfa2deff",
   "metadata": {},
   "outputs": [
    {
     "name": "stdout",
     "output_type": "stream",
     "text": [
      "10 [56, 138, 8, 16, 32, 130, 8, 97, 3, 248]\n"
     ]
    }
   ],
   "source": [
    "def pack_bits(vals, width):\n",
    "    \"\"\"Return width bits from each val packed into bytes.\"\"\"\n",
    "    bytes = []\n",
    "    this_byte = 0\n",
    "    bits_to_go = 8\n",
    "    for v in vals:\n",
    "        for b in range(width):\n",
    "            this_byte *= 2\n",
    "            bitval = 1 if (v & (1 << (width - b - 1))) else 0\n",
    "            if bitval:\n",
    "                this_byte += 1\n",
    "            bits_to_go -= 1\n",
    "            if bits_to_go == 0:\n",
    "                bytes.append(this_byte)\n",
    "                this_byte = 0\n",
    "                bits_to_go = 8\n",
    "    if bits_to_go < 8:\n",
    "        bytes.append(this_byte << bits_to_go)\n",
    "    return bytes\n",
    "\n",
    "b = pack_bits(fvals, width)\n",
    "print(len(b), b)"
   ]
  },
  {
   "cell_type": "code",
   "execution_count": 138,
   "id": "9eb54a08-553e-4209-937c-ce2467ebd6a3",
   "metadata": {},
   "outputs": [
    {
     "name": "stdout",
     "output_type": "stream",
     "text": [
      "192\n",
      "[14, 17, 1, 2, 4, 8, 31]\n",
      "    *** \n",
      "   *   *\n",
      "       *\n",
      "      * \n",
      "     *  \n",
      "    *   \n",
      "   *****\n"
     ]
    }
   ],
   "source": [
    "def parse_simple_font_file(path):\n",
    "    \"\"\"Parse one-byte-per-row file written by https://eleif.net/HD44780.html.\"\"\"\n",
    "    bracelevel = 0\n",
    "    vals = []\n",
    "    with open(path, 'rt') as f:\n",
    "        for l in f:\n",
    "            while l:\n",
    "                l = l.strip()\n",
    "                #print(l)\n",
    "                if not l or l[0] == '/':\n",
    "                    break\n",
    "                if '//' in l or '/*' in l:\n",
    "                    # Strip trailing comment.  Does not handle multi-line /*..*/.\n",
    "                    comment = '//' if '//' in l else '/*'\n",
    "                    pos = l.index(comment)\n",
    "                    l = l[:pos].strip()\n",
    "                    continue\n",
    "                if l[0] in '[],':\n",
    "                    # Update brace level or ignore comma after brace block.\n",
    "                    bracelevel += [1, -1, 0]['[],'.index(l[0])]\n",
    "                    l = l[1:]\n",
    "                    continue\n",
    "                if '[' in l or ']' in l:\n",
    "                    # Parse up until next brace.\n",
    "                    pos = 999\n",
    "                    for b in '[]':\n",
    "                        if b in l:\n",
    "                            pos = min(pos, l.index(b))\n",
    "                    payload = l[:pos].strip()\n",
    "                    l = l[pos:]\n",
    "                else:\n",
    "                    payload = l.strip()\n",
    "                    l = ''\n",
    "                if bracelevel == 2 and payload and payload[0] != '/':\n",
    "                    radix = 16 if '0x' in payload else 10\n",
    "                    payload_vals = [int(v, radix) for v in payload.split(',') if v]\n",
    "                    vals.append(payload_vals)\n",
    "            if len(vals) and bracelevel == 0:\n",
    "                break\n",
    "    return vals\n",
    "\n",
    "sfvals = parse_simple_font_file('/Users/dpwe/Downloads/HD44780_eleif.h')\n",
    "print(len(sfvals))\n",
    "c = 0x32 - 0x20\n",
    "print(sfvals[c])\n",
    "show_bitmap(sfvals[c], 8)\n"
   ]
  },
  {
   "cell_type": "code",
   "execution_count": 139,
   "id": "7aa97a23-8a82-4bdc-ba14-632847c2ff9a",
   "metadata": {},
   "outputs": [],
   "source": [
    "def write_gfx_font_file(path, name, vals, first_val=32, y_advance=8):\n",
    "    \"\"\"Write a multi-part font header file for Adafruit GFX.  vals[0] is bytes, vals[1][c] is charinfo.\"\"\"\n",
    "    with open(path, 'wt') as f:\n",
    "        f.write('#pragma once\\n')\n",
    "        f.write('#include <Adafruit_GFX.h>\\n')\n",
    "        f.write('\\n')\n",
    "        f.write('const uint8_t {:s}Bitmaps[] PROGMEM = {{\\n'.format(name))\n",
    "        num_this_line = 0\n",
    "        num_lines = 0\n",
    "        f.write('   ')\n",
    "        for byte in vals[0]:\n",
    "            if num_lines or num_this_line:\n",
    "                f.write(',')\n",
    "            if num_this_line == 12:\n",
    "                f.write('\\n   ')\n",
    "                num_this_line = 0\n",
    "                num_lines += 1\n",
    "            f.write(' 0x{:02x}'.format(byte))\n",
    "            num_this_line += 1\n",
    "        f.write('};\\n')\n",
    "        # Write the glyphinfo.\n",
    "        f.write('const GFXglyph {:s}Glyphs[] PROGMEM = {{\\n'.format(name))\n",
    "        for glyphinfo in vals[1]:\n",
    "            f.write('  {')\n",
    "            f.write(', '.join(str(d) for d in glyphinfo))\n",
    "            f.write('},\\n')\n",
    "        f.write('};\\n')\n",
    "        # Suffix\n",
    "        last_val = first_val + len(vals[1])\n",
    "        f.write('const GFXfont {:s} PROGMEM = {{(uint8_t *){:s}Bitmaps,\\n'.format(name, name))\n",
    "        f.write('                      (GFXglyph *){:s}Glyphs, 0x{:x},\\n'.format(name, first_val))\n",
    "        f.write('                      0x{:x}, {:d}}};\\n'.format(last_val, y_advance))\n"
   ]
  },
  {
   "cell_type": "code",
   "execution_count": 144,
   "id": "5261434e-ec29-40ef-a572-048a54ffdebe",
   "metadata": {},
   "outputs": [],
   "source": [
    "def sfvals_to_gfxvals(sfvals, width=8):\n",
    "    \"\"\"Convert the raw simple_font_vals to a gfx_vals list\"\"\"\n",
    "    # sfvals is a list of lists of bytes, giving rows of 8-bit-wide fonts.\n",
    "    # gfx_vals[0] is a packed byte blob, gfx_vals[1] is a list of {offset, width, height, advance cursor, x offset, y offset} lists\n",
    "    bytes = []\n",
    "    offsets = []\n",
    "    height = len(sfvals[0])\n",
    "    for char_bytes in sfvals:\n",
    "        assert len(char_bytes) == height\n",
    "        offsets.append(len(bytes))\n",
    "        bytes.extend(pack_bits(char_bytes, width))\n",
    "    fontinfo_list = [[offsets[i], width, height, width + 1, 0, 1 - height] for i in range(len(offsets))]\n",
    "    return [bytes, fontinfo_list]\n",
    "\n",
    "gfx_vals = sfvals_to_gfxvals(sfvals, width=5)\n",
    "\n",
    "write_gfx_font_file('/Users/dpwe/Downloads/HD44780.h', 'HD44780', gfx_vals)"
   ]
  },
  {
   "cell_type": "code",
   "execution_count": null,
   "id": "52511d80-d101-4ed7-b895-2cb4d945c909",
   "metadata": {},
   "outputs": [],
   "source": []
  }
 ],
 "metadata": {
  "kernelspec": {
   "display_name": "Python 3 (ipykernel)",
   "language": "python",
   "name": "python3"
  },
  "language_info": {
   "codemirror_mode": {
    "name": "ipython",
    "version": 3
   },
   "file_extension": ".py",
   "mimetype": "text/x-python",
   "name": "python",
   "nbconvert_exporter": "python",
   "pygments_lexer": "ipython3",
   "version": "3.12.3"
  }
 },
 "nbformat": 4,
 "nbformat_minor": 5
}
